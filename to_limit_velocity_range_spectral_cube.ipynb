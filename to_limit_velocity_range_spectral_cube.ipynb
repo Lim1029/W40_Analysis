{
 "cells": [
  {
   "cell_type": "code",
   "execution_count": 1,
   "metadata": {},
   "outputs": [
    {
     "name": "stderr",
     "output_type": "stream",
     "text": [
      "WARNING: FITS file has no STOKES axis, but it has a blank axis type at index 4 that is assumed to be stokes. [spectral_cube.cube_utils]\n",
      "WARNING: StokesWarning: Cube is a Stokes cube, returning spectral cube for I component [spectral_cube.io.core]\n"
     ]
    }
   ],
   "source": [
    "from astropy import units as u\n",
    "from spectral_cube import SpectralCube\n",
    "import all_functions\n",
    "line = \"hcop\" #define the line\n",
    "vmin = 0\n",
    "vmax = 15\n",
    "u.add_enabled_units(u.def_unit([\"K (Ta*)\"], represents=u.K)) #define the unit K (Tmb) and make it in Kelvin\n",
    "cube_c2h = SpectralCube.read(all_functions.fits_name[line]) #get the filename of the line and read it.\n",
    "sub_cube_slab = cube_c2h.spectral_slab(vmin * u.km / u.s, vmax * u.km / u.s) #limit the spectra cube velocity range to the defined range\n",
    "sub_cube_slab.write(all_functions.fits_name[line].replace(\".fits\", f\"_sub_{vmin}_{vmax}.fits\"), overwrite=True) #save the new spectra cube"
   ]
  },
  {
   "cell_type": "code",
   "execution_count": 2,
   "metadata": {},
   "outputs": [
    {
     "name": "stderr",
     "output_type": "stream",
     "text": [
      "WARNING: FITS file has no STOKES axis, but it has a blank axis type at index 4 that is assumed to be stokes. [spectral_cube.cube_utils]\n",
      "WARNING: StokesWarning: Cube is a Stokes cube, returning spectral cube for I component [spectral_cube.io.core]\n"
     ]
    }
   ],
   "source": [
    "from astropy import units as u\n",
    "from spectral_cube import SpectralCube\n",
    "import all_functions\n",
    "line = \"hcn\" #define the line\n",
    "vmin = -7\n",
    "vmax = 20\n",
    "u.add_enabled_units(u.def_unit([\"K (Ta*)\"], represents=u.K)) #define the unit K (Tmb) and make it in Kelvin\n",
    "cube_c2h = SpectralCube.read(all_functions.fits_name[line]) #get the filename of the line and read it.\n",
    "sub_cube_slab = cube_c2h.spectral_slab(vmin * u.km / u.s, vmax * u.km / u.s) #limit the spectra cube velocity range to the defined range\n",
    "sub_cube_slab.write(all_functions.fits_name[line].replace(\".fits\", f\"_sub_{vmin}_{vmax}.fits\"), overwrite=True) #save the new spectra cube"
   ]
  },
  {
   "cell_type": "code",
   "execution_count": 1,
   "metadata": {},
   "outputs": [
    {
     "name": "stderr",
     "output_type": "stream",
     "text": [
      "WARNING: FITS file has no STOKES axis, but it has a blank axis type at index 4 that is assumed to be stokes. [spectral_cube.cube_utils]\n",
      "WARNING: StokesWarning: Cube is a Stokes cube, returning spectral cube for I component [spectral_cube.io.core]\n"
     ]
    }
   ],
   "source": [
    "from astropy import units as u\n",
    "from spectral_cube import SpectralCube\n",
    "import all_functions\n",
    "line = \"c2h\" #define the line\n",
    "vmin = -50\n",
    "vmax = 20\n",
    "u.add_enabled_units(u.def_unit([\"K (Ta*)\"], represents=u.K)) #define the unit K (Tmb) and make it in Kelvin\n",
    "cube_c2h = SpectralCube.read(all_functions.fits_name[line]) #get the filename of the line and read it.\n",
    "sub_cube_slab = cube_c2h.spectral_slab(vmin * u.km / u.s, vmax * u.km / u.s) #limit the spectra cube velocity range to the defined range\n",
    "sub_cube_slab.write(all_functions.fits_name[line].replace(\".fits\", f\"_sub_{vmin}_{vmax}.fits\"), overwrite=True) #save the new spectra cube"
   ]
  },
  {
   "cell_type": "code",
   "execution_count": 2,
   "metadata": {},
   "outputs": [],
   "source": [
    "from astropy import units as u\n",
    "from spectral_cube import SpectralCube\n",
    "# import all_functions\n",
    "line = \"cn\" #define the line\n",
    "vmin = 0\n",
    "vmax = 15\n",
    "u.add_enabled_units(u.def_unit([\"K (Ta*)\"], represents=u.K)) #define the unit K (Tmb) and make it in Kelvin\n",
    "cube_c2h = SpectralCube.read('/home/mingkang/Desktop/NARIT_Internship/carta/TRAO/cn_modified.fits') #get the filename of the line and read it.\n",
    "sub_cube_slab = cube_c2h.spectral_slab(vmin * u.km / u.s, vmax * u.km / u.s) #limit the spectra cube velocity range to the defined range\n",
    "sub_cube_slab.write(\"/home/mingkang/Desktop/NARIT_Internship/carta/TRAO/cut/cn_0_15.fits\", overwrite=True) #save the new spectra cube"
   ]
  },
  {
   "cell_type": "code",
   "execution_count": null,
   "metadata": {},
   "outputs": [],
   "source": []
  }
 ],
 "metadata": {
  "kernelspec": {
   "display_name": "Python 3",
   "language": "python",
   "name": "python3"
  },
  "language_info": {
   "codemirror_mode": {
    "name": "ipython",
    "version": 3
   },
   "file_extension": ".py",
   "mimetype": "text/x-python",
   "name": "python",
   "nbconvert_exporter": "python",
   "pygments_lexer": "ipython3",
   "version": "3.10.6"
  },
  "orig_nbformat": 4
 },
 "nbformat": 4,
 "nbformat_minor": 2
}
