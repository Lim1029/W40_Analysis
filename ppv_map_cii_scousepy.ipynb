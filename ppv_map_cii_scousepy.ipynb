{
 "cells": [
  {
   "cell_type": "code",
   "execution_count": 1,
   "metadata": {},
   "outputs": [],
   "source": [
    "from scousepy import scouse"
   ]
  },
  {
   "cell_type": "code",
   "execution_count": 3,
   "metadata": {},
   "outputs": [],
   "source": [
    "datadir='/home/mingkang/Desktop/NARIT_Internship/'\n",
    "outputdir='/home/mingkang/Desktop/NARIT_Internship/scousepy_fit'\n",
    "filename='FEEDBACK_W40_CII_OC9N.lmv'"
   ]
  },
  {
   "cell_type": "code",
   "execution_count": 4,
   "metadata": {},
   "outputs": [
    {
     "name": "stdout",
     "output_type": "stream",
     "text": [
      "\n",
      "---------------------\n",
      "\u001b[94minitialising scousepy\u001b[0m\n",
      "---------------------\n",
      "\n",
      "\u001b[92mconfig file created \u001b[0m\n",
      "\n"
     ]
    }
   ],
   "source": [
    "config_file=scouse.run_setup(filename, datadir, outputdir=outputdir)"
   ]
  },
  {
   "cell_type": "code",
   "execution_count": 7,
   "metadata": {},
   "outputs": [
    {
     "name": "stdout",
     "output_type": "stream",
     "text": [
      "\n",
      "--------\n",
      "\u001b[94mscousepy\u001b[0m\n",
      "--------\n",
      "\n",
      "\u001b[94mBeginning stage_1 analysis...\u001b[0m\n",
      "\n"
     ]
    },
    {
     "name": "stderr",
     "output_type": "stream",
     "text": [
      "QStandardPaths: wrong permissions on runtime directory /run/user/1000/, 0755 instead of 0700\n"
     ]
    },
    {
     "name": "stdout",
     "output_type": "stream",
     "text": [
      "\u001b[92mCoverage complete. \u001b[0m\n",
      "\n"
     ]
    }
   ],
   "source": [
    "s = scouse.stage_1(config=config_file, interactive=True)"
   ]
  },
  {
   "cell_type": "code",
   "execution_count": null,
   "metadata": {},
   "outputs": [],
   "source": []
  }
 ],
 "metadata": {
  "kernelspec": {
   "display_name": "Python 3",
   "language": "python",
   "name": "python3"
  },
  "language_info": {
   "codemirror_mode": {
    "name": "ipython",
    "version": 3
   },
   "file_extension": ".py",
   "mimetype": "text/x-python",
   "name": "python",
   "nbconvert_exporter": "python",
   "pygments_lexer": "ipython3",
   "version": "3.10.6"
  }
 },
 "nbformat": 4,
 "nbformat_minor": 2
}
